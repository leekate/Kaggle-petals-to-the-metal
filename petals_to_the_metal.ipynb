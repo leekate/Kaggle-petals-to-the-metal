{
  "nbformat": 4,
  "nbformat_minor": 0,
  "metadata": {
    "colab": {
      "name": "petals to the metal.ipynb",
      "provenance": [],
      "collapsed_sections": [],
      "toc_visible": true,
      "authorship_tag": "ABX9TyM07cA55epGAsXUT3OgJzfh",
      "include_colab_link": true
    },
    "kernelspec": {
      "name": "python3",
      "display_name": "Python 3"
    },
    "accelerator": "TPU"
  },
  "cells": [
    {
      "cell_type": "markdown",
      "metadata": {
        "id": "view-in-github",
        "colab_type": "text"
      },
      "source": [
        "<a href=\"https://colab.research.google.com/github/leekate/Kaggle-petals-to-the-metal/blob/main/petals_to_the_metal.ipynb\" target=\"_parent\"><img src=\"https://colab.research.google.com/assets/colab-badge.svg\" alt=\"Open In Colab\"/></a>"
      ]
    },
    {
      "cell_type": "code",
      "metadata": {
        "colab": {
          "base_uri": "https://localhost:8080/"
        },
        "id": "E9rvzVZVBxrn",
        "outputId": "5e2dd93e-e5cc-4422-e7af-1cd18674c364"
      },
      "source": [
        "import math, re, os\r\n",
        "import numpy as np\r\n",
        "import tensorflow as tf\r\n",
        "\r\n",
        "print(\"Tensorflow version \" + tf.__version__)"
      ],
      "execution_count": 1,
      "outputs": [
        {
          "output_type": "stream",
          "text": [
            "Tensorflow version 2.4.1\n"
          ],
          "name": "stdout"
        }
      ]
    },
    {
      "cell_type": "code",
      "metadata": {
        "colab": {
          "base_uri": "https://localhost:8080/"
        },
        "id": "86cTlBURCJHH",
        "outputId": "0151e1dc-eb80-4d61-aa64-6b7213aa3831"
      },
      "source": [
        "try:\r\n",
        "    tpu = tf.distribute.cluster_resolver.TPUClusterResolver() \r\n",
        "    print('Running on TPU ', tpu.master())\r\n",
        "except ValueError:\r\n",
        "    tpu = None\r\n",
        "\r\n",
        "if tpu:\r\n",
        "    tf.config.experimental_connect_to_cluster(tpu)\r\n",
        "    tf.tpu.experimental.initialize_tpu_system(tpu)\r\n",
        "    strategy = tf.distribute.experimental.TPUStrategy(tpu)\r\n",
        "else:\r\n",
        "    strategy = tf.distribute.get_strategy() \r\n",
        "\r\n",
        "print(\"REPLICAS: \", strategy.num_replicas_in_sync)"
      ],
      "execution_count": 2,
      "outputs": [
        {
          "output_type": "stream",
          "text": [
            "Running on TPU  grpc://10.95.249.114:8470\n",
            "INFO:tensorflow:Initializing the TPU system: grpc://10.95.249.114:8470\n"
          ],
          "name": "stdout"
        },
        {
          "output_type": "stream",
          "text": [
            "INFO:tensorflow:Initializing the TPU system: grpc://10.95.249.114:8470\n"
          ],
          "name": "stderr"
        },
        {
          "output_type": "stream",
          "text": [
            "INFO:tensorflow:Clearing out eager caches\n"
          ],
          "name": "stdout"
        },
        {
          "output_type": "stream",
          "text": [
            "INFO:tensorflow:Clearing out eager caches\n"
          ],
          "name": "stderr"
        },
        {
          "output_type": "stream",
          "text": [
            "INFO:tensorflow:Finished initializing TPU system.\n"
          ],
          "name": "stdout"
        },
        {
          "output_type": "stream",
          "text": [
            "INFO:tensorflow:Finished initializing TPU system.\n",
            "WARNING:absl:`tf.distribute.experimental.TPUStrategy` is deprecated, please use  the non experimental symbol `tf.distribute.TPUStrategy` instead.\n"
          ],
          "name": "stderr"
        },
        {
          "output_type": "stream",
          "text": [
            "INFO:tensorflow:Found TPU system:\n"
          ],
          "name": "stdout"
        },
        {
          "output_type": "stream",
          "text": [
            "INFO:tensorflow:Found TPU system:\n"
          ],
          "name": "stderr"
        },
        {
          "output_type": "stream",
          "text": [
            "INFO:tensorflow:*** Num TPU Cores: 8\n"
          ],
          "name": "stdout"
        },
        {
          "output_type": "stream",
          "text": [
            "INFO:tensorflow:*** Num TPU Cores: 8\n"
          ],
          "name": "stderr"
        },
        {
          "output_type": "stream",
          "text": [
            "INFO:tensorflow:*** Num TPU Workers: 1\n"
          ],
          "name": "stdout"
        },
        {
          "output_type": "stream",
          "text": [
            "INFO:tensorflow:*** Num TPU Workers: 1\n"
          ],
          "name": "stderr"
        },
        {
          "output_type": "stream",
          "text": [
            "INFO:tensorflow:*** Num TPU Cores Per Worker: 8\n"
          ],
          "name": "stdout"
        },
        {
          "output_type": "stream",
          "text": [
            "INFO:tensorflow:*** Num TPU Cores Per Worker: 8\n"
          ],
          "name": "stderr"
        },
        {
          "output_type": "stream",
          "text": [
            "INFO:tensorflow:*** Available Device: _DeviceAttributes(/job:localhost/replica:0/task:0/device:CPU:0, CPU, 0, 0)\n"
          ],
          "name": "stdout"
        },
        {
          "output_type": "stream",
          "text": [
            "INFO:tensorflow:*** Available Device: _DeviceAttributes(/job:localhost/replica:0/task:0/device:CPU:0, CPU, 0, 0)\n"
          ],
          "name": "stderr"
        },
        {
          "output_type": "stream",
          "text": [
            "INFO:tensorflow:*** Available Device: _DeviceAttributes(/job:worker/replica:0/task:0/device:CPU:0, CPU, 0, 0)\n"
          ],
          "name": "stdout"
        },
        {
          "output_type": "stream",
          "text": [
            "INFO:tensorflow:*** Available Device: _DeviceAttributes(/job:worker/replica:0/task:0/device:CPU:0, CPU, 0, 0)\n"
          ],
          "name": "stderr"
        },
        {
          "output_type": "stream",
          "text": [
            "INFO:tensorflow:*** Available Device: _DeviceAttributes(/job:worker/replica:0/task:0/device:TPU:0, TPU, 0, 0)\n"
          ],
          "name": "stdout"
        },
        {
          "output_type": "stream",
          "text": [
            "INFO:tensorflow:*** Available Device: _DeviceAttributes(/job:worker/replica:0/task:0/device:TPU:0, TPU, 0, 0)\n"
          ],
          "name": "stderr"
        },
        {
          "output_type": "stream",
          "text": [
            "INFO:tensorflow:*** Available Device: _DeviceAttributes(/job:worker/replica:0/task:0/device:TPU:1, TPU, 0, 0)\n"
          ],
          "name": "stdout"
        },
        {
          "output_type": "stream",
          "text": [
            "INFO:tensorflow:*** Available Device: _DeviceAttributes(/job:worker/replica:0/task:0/device:TPU:1, TPU, 0, 0)\n"
          ],
          "name": "stderr"
        },
        {
          "output_type": "stream",
          "text": [
            "INFO:tensorflow:*** Available Device: _DeviceAttributes(/job:worker/replica:0/task:0/device:TPU:2, TPU, 0, 0)\n"
          ],
          "name": "stdout"
        },
        {
          "output_type": "stream",
          "text": [
            "INFO:tensorflow:*** Available Device: _DeviceAttributes(/job:worker/replica:0/task:0/device:TPU:2, TPU, 0, 0)\n"
          ],
          "name": "stderr"
        },
        {
          "output_type": "stream",
          "text": [
            "INFO:tensorflow:*** Available Device: _DeviceAttributes(/job:worker/replica:0/task:0/device:TPU:3, TPU, 0, 0)\n"
          ],
          "name": "stdout"
        },
        {
          "output_type": "stream",
          "text": [
            "INFO:tensorflow:*** Available Device: _DeviceAttributes(/job:worker/replica:0/task:0/device:TPU:3, TPU, 0, 0)\n"
          ],
          "name": "stderr"
        },
        {
          "output_type": "stream",
          "text": [
            "INFO:tensorflow:*** Available Device: _DeviceAttributes(/job:worker/replica:0/task:0/device:TPU:4, TPU, 0, 0)\n"
          ],
          "name": "stdout"
        },
        {
          "output_type": "stream",
          "text": [
            "INFO:tensorflow:*** Available Device: _DeviceAttributes(/job:worker/replica:0/task:0/device:TPU:4, TPU, 0, 0)\n"
          ],
          "name": "stderr"
        },
        {
          "output_type": "stream",
          "text": [
            "INFO:tensorflow:*** Available Device: _DeviceAttributes(/job:worker/replica:0/task:0/device:TPU:5, TPU, 0, 0)\n"
          ],
          "name": "stdout"
        },
        {
          "output_type": "stream",
          "text": [
            "INFO:tensorflow:*** Available Device: _DeviceAttributes(/job:worker/replica:0/task:0/device:TPU:5, TPU, 0, 0)\n"
          ],
          "name": "stderr"
        },
        {
          "output_type": "stream",
          "text": [
            "INFO:tensorflow:*** Available Device: _DeviceAttributes(/job:worker/replica:0/task:0/device:TPU:6, TPU, 0, 0)\n"
          ],
          "name": "stdout"
        },
        {
          "output_type": "stream",
          "text": [
            "INFO:tensorflow:*** Available Device: _DeviceAttributes(/job:worker/replica:0/task:0/device:TPU:6, TPU, 0, 0)\n"
          ],
          "name": "stderr"
        },
        {
          "output_type": "stream",
          "text": [
            "INFO:tensorflow:*** Available Device: _DeviceAttributes(/job:worker/replica:0/task:0/device:TPU:7, TPU, 0, 0)\n"
          ],
          "name": "stdout"
        },
        {
          "output_type": "stream",
          "text": [
            "INFO:tensorflow:*** Available Device: _DeviceAttributes(/job:worker/replica:0/task:0/device:TPU:7, TPU, 0, 0)\n"
          ],
          "name": "stderr"
        },
        {
          "output_type": "stream",
          "text": [
            "INFO:tensorflow:*** Available Device: _DeviceAttributes(/job:worker/replica:0/task:0/device:TPU_SYSTEM:0, TPU_SYSTEM, 0, 0)\n"
          ],
          "name": "stdout"
        },
        {
          "output_type": "stream",
          "text": [
            "INFO:tensorflow:*** Available Device: _DeviceAttributes(/job:worker/replica:0/task:0/device:TPU_SYSTEM:0, TPU_SYSTEM, 0, 0)\n"
          ],
          "name": "stderr"
        },
        {
          "output_type": "stream",
          "text": [
            "INFO:tensorflow:*** Available Device: _DeviceAttributes(/job:worker/replica:0/task:0/device:XLA_CPU:0, XLA_CPU, 0, 0)\n"
          ],
          "name": "stdout"
        },
        {
          "output_type": "stream",
          "text": [
            "INFO:tensorflow:*** Available Device: _DeviceAttributes(/job:worker/replica:0/task:0/device:XLA_CPU:0, XLA_CPU, 0, 0)\n"
          ],
          "name": "stderr"
        },
        {
          "output_type": "stream",
          "text": [
            "REPLICAS:  8\n"
          ],
          "name": "stdout"
        }
      ]
    },
    {
      "cell_type": "markdown",
      "metadata": {
        "id": "0NiW00ALDLUQ"
      },
      "source": [
        "# Loading the Competition Data"
      ]
    },
    {
      "cell_type": "code",
      "metadata": {
        "id": "QpJxb6hoPsTm"
      },
      "source": [
        "# from kaggle_datasets import KaggleDatasets\r\n",
        "# GCS_DS_PATH = KaggleDatasets().get_gcs_path('tpu-getting-started')\r\n",
        "# print(GCS_DS_PATH)"
      ],
      "execution_count": 3,
      "outputs": []
    },
    {
      "cell_type": "code",
      "metadata": {
        "id": "DYU8aUcyPi6D"
      },
      "source": [
        "#!gsutil ls $GCS_DS_PATH\r\n",
        "# you can list the bucket with \"!gsutil ls $GCS_DS_PATH\"\r\n",
        "\r\n",
        "# from kaggle_datasets import KaggleDatasets\r\n",
        "# GCS_DS_PATH = KaggleDatasets().get_gcs_path() "
      ],
      "execution_count": 4,
      "outputs": []
    },
    {
      "cell_type": "code",
      "metadata": {
        "id": "4OgNdY8aEdF5"
      },
      "source": [
        "!pip install -q kaggle\r\n",
        "!mkdir -p ~/.kaggle\r\n",
        "!cp kaggle.json ~/.kaggle"
      ],
      "execution_count": 5,
      "outputs": []
    },
    {
      "cell_type": "code",
      "metadata": {
        "colab": {
          "base_uri": "https://localhost:8080/"
        },
        "id": "0cK5zadhQzf8",
        "outputId": "0be66e81-4ab9-4545-ec3a-93335f9b1326"
      },
      "source": [
        "!kaggle competitions download -c tpu-getting-started"
      ],
      "execution_count": 6,
      "outputs": [
        {
          "output_type": "stream",
          "text": [
            "Warning: Your Kaggle API key is readable by other users on this system! To fix this, you can run 'chmod 600 /root/.kaggle/kaggle.json'\n",
            "Warning: Looks like you're using an outdated API Version, please consider updating (server 1.5.10 / client 1.5.4)\n",
            "Downloading 04-192x192-462.tfrec.zip to /content\n",
            " 45% 5.00M/11.1M [00:00<00:00, 31.4MB/s]\n",
            "100% 11.1M/11.1M [00:00<00:00, 43.7MB/s]\n",
            "Downloading 07-192x192-462.tfrec.zip to /content\n",
            " 65% 7.00M/10.8M [00:00<00:00, 71.9MB/s]\n",
            "100% 10.8M/10.8M [00:00<00:00, 68.7MB/s]\n",
            "Downloading 01-192x192-462.tfrec.zip to /content\n",
            " 82% 9.00M/11.0M [00:00<00:00, 16.5MB/s]\n",
            "100% 11.0M/11.0M [00:00<00:00, 18.6MB/s]\n",
            "Downloading 00-192x192-462.tfrec.zip to /content\n",
            " 46% 5.00M/10.8M [00:00<00:00, 33.7MB/s]\n",
            "100% 10.8M/10.8M [00:00<00:00, 53.0MB/s]\n",
            "Downloading 15-192x192-452.tfrec.zip to /content\n",
            " 85% 9.00M/10.6M [00:00<00:00, 36.2MB/s]\n",
            "100% 10.6M/10.6M [00:00<00:00, 35.1MB/s]\n",
            "Downloading 11-192x192-462.tfrec.zip to /content\n",
            " 82% 9.00M/11.0M [00:00<00:00, 41.7MB/s]\n",
            "100% 11.0M/11.0M [00:00<00:00, 43.6MB/s]\n",
            "Downloading 03-192x192-462.tfrec.zip to /content\n",
            " 73% 8.00M/11.0M [00:00<00:00, 81.2MB/s]\n",
            "100% 11.0M/11.0M [00:00<00:00, 70.2MB/s]\n",
            "Downloading 08-192x192-462.tfrec.zip to /content\n",
            " 82% 9.00M/10.9M [00:00<00:00, 26.8MB/s]\n",
            "100% 10.9M/10.9M [00:00<00:00, 30.9MB/s]\n",
            "Downloading 14-192x192-462.tfrec.zip to /content\n",
            "100% 10.9M/10.9M [00:00<00:00, 112MB/s]\n",
            "\n",
            "Downloading 12-192x192-462.tfrec.zip to /content\n",
            " 83% 9.00M/10.8M [00:00<00:00, 79.2MB/s]\n",
            "100% 10.8M/10.8M [00:00<00:00, 68.1MB/s]\n",
            "Downloading 13-192x192-462.tfrec.zip to /content\n",
            " 83% 9.00M/10.8M [00:00<00:00, 22.7MB/s]\n",
            "100% 10.8M/10.8M [00:00<00:00, 21.9MB/s]\n",
            "Downloading 10-192x192-462.tfrec.zip to /content\n",
            " 82% 9.00M/10.9M [00:00<00:00, 21.3MB/s]\n",
            "100% 10.9M/10.9M [00:00<00:00, 24.7MB/s]\n",
            "Downloading 09-192x192-462.tfrec.zip to /content\n",
            " 46% 5.00M/10.8M [00:00<00:00, 38.6MB/s]\n",
            "100% 10.8M/10.8M [00:00<00:00, 62.2MB/s]\n",
            "Downloading 05-192x192-462.tfrec to /content\n",
            " 45% 5.00M/11.1M [00:00<00:00, 45.2MB/s]\n",
            "100% 11.1M/11.1M [00:00<00:00, 69.6MB/s]\n",
            "Downloading 02-192x192-462.tfrec.zip to /content\n",
            " 55% 6.00M/10.9M [00:00<00:00, 60.2MB/s]\n",
            "100% 10.9M/10.9M [00:00<00:00, 69.8MB/s]\n",
            "Downloading 06-192x192-462.tfrec.zip to /content\n",
            " 81% 9.00M/11.1M [00:00<00:00, 76.3MB/s]\n",
            "100% 11.1M/11.1M [00:00<00:00, 70.7MB/s]\n",
            "Downloading 01-192x192-798.tfrec.zip to /content\n",
            " 85% 16.0M/18.7M [00:00<00:00, 58.3MB/s]\n",
            "100% 18.7M/18.7M [00:00<00:00, 34.6MB/s]\n",
            "Downloading 00-192x192-798.tfrec.zip to /content\n",
            " 88% 17.0M/19.2M [00:00<00:00, 20.9MB/s]\n",
            "100% 19.2M/19.2M [00:00<00:00, 24.7MB/s]\n",
            "Downloading 12-192x192-798.tfrec.zip to /content\n",
            " 53% 10.0M/18.7M [00:00<00:00, 25.6MB/s]\n",
            "100% 18.7M/18.7M [00:00<00:00, 34.8MB/s]\n",
            "Downloading 10-192x192-798.tfrec.zip to /content\n",
            " 74% 14.0M/19.0M [00:00<00:00, 26.3MB/s]\n",
            "100% 19.0M/19.0M [00:00<00:00, 38.5MB/s]\n",
            "Downloading 05-192x192-798.tfrec.zip to /content\n",
            " 42% 8.00M/19.0M [00:00<00:00, 83.8MB/s]\n",
            "100% 19.0M/19.0M [00:00<00:00, 121MB/s] \n",
            "Downloading 13-192x192-798.tfrec.zip to /content\n",
            " 70% 13.0M/18.6M [00:00<00:00, 27.5MB/s]\n",
            "100% 18.6M/18.6M [00:00<00:00, 37.8MB/s]\n",
            "Downloading 06-192x192-798.tfrec.zip to /content\n",
            " 48% 9.00M/18.9M [00:00<00:00, 21.4MB/s]\n",
            "100% 18.9M/18.9M [00:00<00:00, 32.1MB/s]\n",
            "Downloading 11-192x192-798.tfrec.zip to /content\n",
            " 48% 9.00M/18.7M [00:00<00:00, 24.3MB/s]\n",
            "100% 18.7M/18.7M [00:00<00:00, 34.7MB/s]\n",
            "Downloading 07-192x192-798.tfrec.zip to /content\n",
            " 26% 5.00M/19.0M [00:00<00:00, 48.3MB/s]\n",
            "100% 19.0M/19.0M [00:00<00:00, 92.0MB/s]\n",
            "Downloading 02-192x192-798.tfrec.zip to /content\n",
            " 95% 18.0M/19.0M [00:00<00:00, 45.5MB/s]\n",
            "100% 19.0M/19.0M [00:00<00:00, 48.0MB/s]\n",
            "Downloading 04-192x192-798.tfrec.zip to /content\n",
            " 91% 17.0M/18.6M [00:00<00:00, 43.3MB/s]\n",
            "100% 18.6M/18.6M [00:00<00:00, 40.7MB/s]\n",
            "Downloading 03-192x192-798.tfrec.zip to /content\n",
            " 69% 13.0M/18.9M [00:00<00:00, 37.4MB/s]\n",
            "100% 18.9M/18.9M [00:00<00:00, 46.2MB/s]\n",
            "Downloading 14-192x192-798.tfrec.zip to /content\n",
            " 53% 10.0M/18.8M [00:00<00:00, 33.6MB/s]\n",
            "100% 18.8M/18.8M [00:00<00:00, 46.7MB/s]\n",
            "Downloading 09-192x192-798.tfrec.zip to /content\n",
            "100% 19.0M/19.0M [00:00<00:00, 19.3MB/s]\n",
            "\n",
            "Downloading 08-192x192-798.tfrec.zip to /content\n",
            " 85% 16.0M/18.9M [00:00<00:00, 24.9MB/s]\n",
            "100% 18.9M/18.9M [00:00<00:00, 37.6MB/s]\n",
            "Downloading 15-192x192-783.tfrec.zip to /content\n",
            " 92% 17.0M/18.4M [00:00<00:00, 21.1MB/s]\n",
            "100% 18.4M/18.4M [00:00<00:00, 27.6MB/s]\n",
            "Downloading 08-192x192-232.tfrec.zip to /content\n",
            "  0% 0.00/5.35M [00:00<?, ?B/s]\n",
            "100% 5.35M/5.35M [00:00<00:00, 76.7MB/s]\n",
            "Downloading 01-192x192-232.tfrec.zip to /content\n",
            "  0% 0.00/5.35M [00:00<?, ?B/s]\n",
            "100% 5.35M/5.35M [00:00<00:00, 48.2MB/s]\n",
            "Downloading 05-192x192-232.tfrec.zip to /content\n",
            " 91% 5.00M/5.51M [00:00<00:00, 52.4MB/s]\n",
            "100% 5.51M/5.51M [00:00<00:00, 50.3MB/s]\n",
            "Downloading 15-192x192-232.tfrec.zip to /content\n",
            "  0% 0.00/5.46M [00:00<?, ?B/s]\n",
            "100% 5.46M/5.46M [00:00<00:00, 49.3MB/s]\n",
            "Downloading 06-192x192-232.tfrec.zip to /content\n",
            " 94% 5.00M/5.34M [00:00<00:00, 43.5MB/s]\n",
            "100% 5.34M/5.34M [00:00<00:00, 33.9MB/s]\n",
            "Downloading 07-192x192-232.tfrec.zip to /content\n",
            " 54% 3.00M/5.51M [00:00<00:00, 23.8MB/s]\n",
            "100% 5.51M/5.51M [00:00<00:00, 21.8MB/s]\n",
            "Downloading 09-192x192-232.tfrec.zip to /content\n",
            "  0% 0.00/5.55M [00:00<?, ?B/s]\n",
            "100% 5.55M/5.55M [00:00<00:00, 51.0MB/s]\n",
            "Downloading 14-192x192-232.tfrec.zip to /content\n",
            "  0% 0.00/5.55M [00:00<?, ?B/s]\n",
            "100% 5.55M/5.55M [00:00<00:00, 50.8MB/s]\n",
            "Downloading 11-192x192-232.tfrec.zip to /content\n",
            " 91% 5.00M/5.50M [00:00<00:00, 42.9MB/s]\n",
            "100% 5.50M/5.50M [00:00<00:00, 34.8MB/s]\n",
            "Downloading 13-192x192-232.tfrec.zip to /content\n",
            "  0% 0.00/5.57M [00:00<?, ?B/s]\n",
            "100% 5.57M/5.57M [00:00<00:00, 51.0MB/s]\n",
            "Downloading 04-192x192-232.tfrec.zip to /content\n",
            "  0% 0.00/5.55M [00:00<?, ?B/s]\n",
            "100% 5.55M/5.55M [00:00<00:00, 50.3MB/s]\n",
            "Downloading 10-192x192-232.tfrec.zip to /content\n",
            " 90% 5.00M/5.56M [00:00<00:00, 49.5MB/s]\n",
            "100% 5.56M/5.56M [00:00<00:00, 51.1MB/s]\n",
            "Downloading 03-192x192-232.tfrec.zip to /content\n",
            " 91% 5.00M/5.52M [00:00<00:00, 34.0MB/s]\n",
            "100% 5.52M/5.52M [00:00<00:00, 35.2MB/s]\n",
            "Downloading 12-192x192-232.tfrec.zip to /content\n",
            "  0% 0.00/5.45M [00:00<?, ?B/s]\n",
            "100% 5.45M/5.45M [00:00<00:00, 50.1MB/s]\n",
            "Downloading 00-192x192-232.tfrec.zip to /content\n",
            "  0% 0.00/5.64M [00:00<?, ?B/s]\n",
            "100% 5.64M/5.64M [00:00<00:00, 92.8MB/s]\n",
            "Downloading 02-192x192-232.tfrec.zip to /content\n",
            "  0% 0.00/5.48M [00:00<?, ?B/s]\n",
            "100% 5.48M/5.48M [00:00<00:00, 50.4MB/s]\n",
            "Downloading 14-224x224-462.tfrec.zip to /content\n",
            " 80% 11.0M/13.7M [00:00<00:00, 32.9MB/s]\n",
            "100% 13.7M/13.7M [00:00<00:00, 39.4MB/s]\n",
            "Downloading 05-224x224-462.tfrec.zip to /content\n",
            " 80% 11.0M/13.8M [00:00<00:00, 58.2MB/s]\n",
            "100% 13.8M/13.8M [00:00<00:00, 54.2MB/s]\n",
            "Downloading 13-224x224-462.tfrec.zip to /content\n",
            " 66% 9.00M/13.6M [00:00<00:00, 68.6MB/s]\n",
            "100% 13.6M/13.6M [00:00<00:00, 86.8MB/s]\n",
            "Downloading 10-224x224-462.tfrec.zip to /content\n",
            " 51% 7.00M/13.8M [00:00<00:00, 72.4MB/s]\n",
            "100% 13.8M/13.8M [00:00<00:00, 67.2MB/s]\n",
            "Downloading 02-224x224-462.tfrec.zip to /content\n",
            " 94% 13.0M/13.8M [00:00<00:00, 29.9MB/s]\n",
            "100% 13.8M/13.8M [00:00<00:00, 54.3MB/s]\n",
            "Downloading 09-224x224-462.tfrec.zip to /content\n",
            " 89% 12.0M/13.6M [00:00<00:00, 24.1MB/s]\n",
            "100% 13.6M/13.6M [00:00<00:00, 22.2MB/s]\n",
            "Downloading 00-224x224-462.tfrec.zip to /content\n",
            " 95% 13.0M/13.6M [00:00<00:00, 21.2MB/s]\n",
            "100% 13.6M/13.6M [00:00<00:00, 21.5MB/s]\n",
            "Downloading 06-224x224-462.tfrec.zip to /content\n",
            " 65% 9.00M/13.9M [00:00<00:00, 39.4MB/s]\n",
            "100% 13.9M/13.9M [00:00<00:00, 46.3MB/s]\n",
            "Downloading 03-224x224-462.tfrec.zip to /content\n",
            " 79% 11.0M/13.9M [00:00<00:00, 54.5MB/s]\n",
            "100% 13.9M/13.9M [00:00<00:00, 54.9MB/s]\n",
            "Downloading 12-224x224-462.tfrec.zip to /content\n",
            " 66% 9.00M/13.6M [00:00<00:00, 53.4MB/s]\n",
            "100% 13.6M/13.6M [00:00<00:00, 66.1MB/s]\n",
            "Downloading 11-224x224-462.tfrec.zip to /content\n",
            " 87% 12.0M/13.8M [00:00<00:00, 36.9MB/s]\n",
            "100% 13.8M/13.8M [00:00<00:00, 39.4MB/s]\n",
            "Downloading 01-224x224-462.tfrec.zip to /content\n",
            " 43% 6.00M/13.8M [00:00<00:00, 61.0MB/s]\n",
            "100% 13.8M/13.8M [00:00<00:00, 67.4MB/s]\n",
            "Downloading 07-224x224-462.tfrec.zip to /content\n",
            " 81% 11.0M/13.5M [00:00<00:00, 41.4MB/s]\n",
            "100% 13.5M/13.5M [00:00<00:00, 44.8MB/s]\n",
            "Downloading 04-224x224-462.tfrec.zip to /content\n",
            " 72% 10.0M/13.9M [00:00<00:00, 32.1MB/s]\n",
            "100% 13.9M/13.9M [00:00<00:00, 39.9MB/s]\n",
            "Downloading 08-224x224-462.tfrec.zip to /content\n",
            " 58% 8.00M/13.8M [00:00<00:00, 34.7MB/s]\n",
            "100% 13.8M/13.8M [00:00<00:00, 39.6MB/s]\n",
            "Downloading 15-224x224-452.tfrec.zip to /content\n",
            " 60% 8.00M/13.4M [00:00<00:00, 80.6MB/s]\n",
            "100% 13.4M/13.4M [00:00<00:00, 65.0MB/s]\n",
            "Downloading 06-224x224-798.tfrec.zip to /content\n",
            " 63% 15.0M/23.7M [00:00<00:00, 34.2MB/s]\n",
            "100% 23.7M/23.7M [00:00<00:00, 48.1MB/s]\n",
            "Downloading 15-224x224-783.tfrec.zip to /content\n",
            " 87% 20.0M/23.1M [00:00<00:00, 65.4MB/s]\n",
            "100% 23.1M/23.1M [00:00<00:00, 66.2MB/s]\n",
            "Downloading 12-224x224-798.tfrec.zip to /content\n",
            " 85% 20.0M/23.6M [00:00<00:00, 35.0MB/s]\n",
            "100% 23.6M/23.6M [00:00<00:00, 43.7MB/s]\n",
            "Downloading 07-224x224-798.tfrec.zip to /content\n",
            " 84% 20.0M/23.9M [00:00<00:00, 29.8MB/s]\n",
            "100% 23.9M/23.9M [00:00<00:00, 35.0MB/s]\n",
            "Downloading 05-224x224-798.tfrec.zip to /content\n",
            " 71% 17.0M/23.8M [00:00<00:00, 32.5MB/s]\n",
            "100% 23.8M/23.8M [00:00<00:00, 47.9MB/s]\n",
            "Downloading 03-224x224-798.tfrec.zip to /content\n",
            " 84% 20.0M/23.8M [00:00<00:00, 42.5MB/s]\n",
            "100% 23.8M/23.8M [00:00<00:00, 53.5MB/s]\n",
            "Downloading 14-224x224-798.tfrec.zip to /content\n",
            " 59% 14.0M/23.7M [00:00<00:00, 55.5MB/s]\n",
            "100% 23.7M/23.7M [00:00<00:00, 78.8MB/s]\n",
            "Downloading 13-224x224-798.tfrec.zip to /content\n",
            " 90% 21.0M/23.4M [00:00<00:00, 96.7MB/s]\n",
            "100% 23.4M/23.4M [00:00<00:00, 92.7MB/s]\n",
            "Downloading 09-224x224-798.tfrec.zip to /content\n",
            " 92% 22.0M/23.9M [00:00<00:00, 45.0MB/s]\n",
            "100% 23.9M/23.9M [00:00<00:00, 60.2MB/s]\n",
            "Downloading 08-224x224-798.tfrec.zip to /content\n",
            " 76% 18.0M/23.8M [00:00<00:00, 62.9MB/s]\n",
            "100% 23.8M/23.8M [00:00<00:00, 77.7MB/s]\n",
            "Downloading 11-224x224-798.tfrec.zip to /content\n",
            " 72% 17.0M/23.5M [00:00<00:00, 45.0MB/s]\n",
            "100% 23.5M/23.5M [00:00<00:00, 78.3MB/s]\n",
            "Downloading 04-224x224-798.tfrec.zip to /content\n",
            " 73% 17.0M/23.4M [00:00<00:00, 27.2MB/s]\n",
            "100% 23.4M/23.4M [00:00<00:00, 34.2MB/s]\n",
            "Downloading 00-224x224-798.tfrec.zip to /content\n",
            " 66% 16.0M/24.2M [00:00<00:00, 42.6MB/s]\n",
            "100% 24.2M/24.2M [00:00<00:00, 80.6MB/s]\n",
            "Downloading 10-224x224-798.tfrec.zip to /content\n",
            "100% 23.8M/23.8M [00:00<00:00, 52.3MB/s]\n",
            "\n",
            "Downloading 02-224x224-798.tfrec.zip to /content\n",
            " 92% 22.0M/23.9M [00:00<00:00, 23.9MB/s]\n",
            "100% 23.9M/23.9M [00:00<00:00, 30.7MB/s]\n",
            "Downloading 01-224x224-798.tfrec.zip to /content\n",
            " 72% 17.0M/23.6M [00:00<00:00, 42.7MB/s]\n",
            "100% 23.6M/23.6M [00:00<00:00, 47.3MB/s]\n",
            "Downloading 00-224x224-232.tfrec.zip to /content\n",
            "  0% 0.00/7.11M [00:00<?, ?B/s]\n",
            "100% 7.11M/7.11M [00:00<00:00, 65.4MB/s]\n",
            "Downloading 11-224x224-232.tfrec.zip to /content\n",
            "100% 6.93M/6.93M [00:00<00:00, 36.9MB/s]\n",
            "\n",
            "Downloading 14-224x224-232.tfrec.zip to /content\n",
            "  0% 0.00/6.97M [00:00<?, ?B/s]\n",
            "100% 6.97M/6.97M [00:00<00:00, 64.0MB/s]\n",
            "Downloading 13-224x224-232.tfrec.zip to /content\n",
            " 86% 6.00M/7.01M [00:00<00:00, 60.7MB/s]\n",
            "100% 7.01M/7.01M [00:00<00:00, 64.4MB/s]\n",
            "429 - Too Many Requests\n"
          ],
          "name": "stdout"
        }
      ]
    },
    {
      "cell_type": "code",
      "metadata": {
        "colab": {
          "base_uri": "https://localhost:8080/"
        },
        "id": "c_fceM9mRZHC",
        "outputId": "4b40a41b-5620-4d52-d7c6-76ba09ae3b16"
      },
      "source": [
        "!unzip \\*.zip"
      ],
      "execution_count": 12,
      "outputs": [
        {
          "output_type": "stream",
          "text": [
            "Archive:  04-512x512-462.tfrec.zip\n",
            "  inflating: 04-512x512-462.tfrec    \n",
            "\n",
            "Archive:  06-224x224-462.tfrec.zip\n",
            "  inflating: 06-224x224-462.tfrec    \n",
            "\n",
            "Archive:  15-224x224-232.tfrec.zip\n",
            "  inflating: 15-224x224-232.tfrec    \n",
            "\n",
            "Archive:  03-512x512-462.tfrec.zip\n",
            "  inflating: 03-512x512-462.tfrec    \n",
            "\n",
            "Archive:  02-512x512-232.tfrec.zip\n",
            "  inflating: 02-512x512-232.tfrec    \n",
            "\n",
            "Archive:  07-224x224-462.tfrec.zip\n",
            "  inflating: 07-224x224-462.tfrec    \n",
            "\n",
            "Archive:  12-224x224-798.tfrec.zip\n",
            "  inflating: 12-224x224-798.tfrec    \n",
            "\n",
            "Archive:  10-512x512-462.tfrec.zip\n",
            "  inflating: 10-512x512-462.tfrec    \n",
            "\n",
            "Archive:  06-512x512-232.tfrec.zip\n",
            "  inflating: 06-512x512-232.tfrec    \n",
            "\n",
            "Archive:  10-512x512-232.tfrec.zip\n",
            "  inflating: 10-512x512-232.tfrec    \n",
            "\n",
            "Archive:  02-512x512-798.tfrec.zip\n",
            "  inflating: 02-512x512-798.tfrec    \n",
            "\n",
            "Archive:  00-512x512-232.tfrec.zip\n",
            "  inflating: 00-512x512-232.tfrec    \n",
            "\n",
            "Archive:  00-512x512-798.tfrec.zip\n",
            "  inflating: 00-512x512-798.tfrec    \n",
            "\n",
            "Archive:  00-224x224-462.tfrec.zip\n",
            "  inflating: 00-224x224-462.tfrec    \n",
            "\n",
            "Archive:  15-512x512-232.tfrec.zip\n",
            "  inflating: 15-512x512-232.tfrec    \n",
            "\n",
            "Archive:  01-512x512-462.tfrec.zip\n",
            "  inflating: 01-512x512-462.tfrec    \n",
            "\n",
            "Archive:  01-512x512-798.tfrec.zip\n",
            "  inflating: 01-512x512-798.tfrec    \n",
            "\n",
            "Archive:  04-512x512-798.tfrec.zip\n",
            "  inflating: 04-512x512-798.tfrec    \n",
            "\n",
            "Archive:  04-224x224-232.tfrec.zip\n",
            "  inflating: 04-224x224-232.tfrec    \n",
            "\n",
            "Archive:  13-512x512-232.tfrec.zip\n",
            "  inflating: 13-512x512-232.tfrec    \n",
            "\n",
            "Archive:  15-192x192-452.tfrec.zip\n",
            "  inflating: 15-192x192-452.tfrec    \n",
            "\n",
            "Archive:  14-224x224-232.tfrec.zip\n",
            "  inflating: 14-224x224-232.tfrec    \n",
            "\n",
            "Archive:  07-512x512-798.tfrec.zip\n",
            "  inflating: 07-512x512-798.tfrec    \n",
            "\n",
            "Archive:  03-512x512-232.tfrec.zip\n",
            "  inflating: 03-512x512-232.tfrec    \n",
            "\n",
            "Archive:  15-512x512-452.tfrec.zip\n",
            "  inflating: 15-512x512-452.tfrec    \n",
            "\n",
            "Archive:  02-224x224-232.tfrec.zip\n",
            "  inflating: 02-224x224-232.tfrec    \n",
            "\n",
            "Archive:  02-192x192-462.tfrec.zip\n",
            "  inflating: 02-192x192-462.tfrec    \n",
            "\n",
            "Archive:  02-224x224-798.tfrec.zip\n",
            "  inflating: 02-224x224-798.tfrec    \n",
            "\n",
            "Archive:  01-224x224-462.tfrec.zip\n",
            "  inflating: 01-224x224-462.tfrec    \n",
            "\n",
            "Archive:  05-512x512-798.tfrec.zip\n",
            "  inflating: 05-512x512-798.tfrec    \n",
            "\n",
            "Archive:  11-512x512-798.tfrec.zip\n",
            "  inflating: 11-512x512-798.tfrec    \n",
            "\n",
            "Archive:  14-512x512-232.tfrec.zip\n",
            "  inflating: 14-512x512-232.tfrec    \n",
            "\n",
            "Archive:  15-512x512-783.tfrec.zip\n",
            "  inflating: 15-512x512-783.tfrec    \n",
            "\n",
            "Archive:  08-512x512-462.tfrec.zip\n",
            "  inflating: 08-512x512-462.tfrec    \n",
            "\n",
            "Archive:  14-224x224-462.tfrec.zip\n",
            "  inflating: 14-224x224-462.tfrec    \n",
            "\n",
            "Archive:  07-512x512-232.tfrec.zip\n",
            "  inflating: 07-512x512-232.tfrec    \n",
            "\n",
            "Archive:  13-224x224-462.tfrec.zip\n",
            "  inflating: 13-224x224-462.tfrec    \n",
            "\n",
            "Archive:  09-224x224-798.tfrec.zip\n",
            "  inflating: 09-224x224-798.tfrec    \n",
            "\n",
            "Archive:  12-224x224-462.tfrec.zip\n",
            "  inflating: 12-224x224-462.tfrec    \n",
            "\n",
            "Archive:  12-512x512-462.tfrec.zip\n",
            "  inflating: 12-512x512-462.tfrec    \n",
            "\n",
            "Archive:  06-512x512-798.tfrec.zip\n",
            "  inflating: 06-512x512-798.tfrec    \n",
            "\n",
            "Archive:  08-224x224-232.tfrec.zip\n",
            "  inflating: 08-224x224-232.tfrec    \n",
            "\n",
            "Archive:  01-512x512-232.tfrec.zip\n",
            "  inflating: 01-512x512-232.tfrec    \n",
            "\n",
            "Archive:  13-224x224-232.tfrec.zip\n",
            "  inflating: 13-224x224-232.tfrec    \n",
            "\n",
            "Archive:  11-224x224-232.tfrec.zip\n",
            "  inflating: 11-224x224-232.tfrec    \n",
            "\n",
            "Archive:  10-512x512-798.tfrec.zip\n",
            "  inflating: 10-512x512-798.tfrec    \n",
            "\n",
            "Archive:  09-224x224-232.tfrec.zip\n",
            "  inflating: 09-224x224-232.tfrec    \n",
            "\n",
            "Archive:  09-512x512-232.tfrec.zip\n",
            "  inflating: 09-512x512-232.tfrec    \n",
            "\n",
            "Archive:  14-224x224-798.tfrec.zip\n",
            "  inflating: 14-224x224-798.tfrec    \n",
            "\n",
            "Archive:  03-224x224-232.tfrec.zip\n",
            "  inflating: 03-224x224-232.tfrec    \n",
            "\n",
            "Archive:  03-192x192-462.tfrec.zip\n",
            "  inflating: 03-192x192-462.tfrec    \n",
            "\n",
            "Archive:  00-512x512-462.tfrec.zip\n",
            "  inflating: 00-512x512-462.tfrec    \n",
            "\n",
            "Archive:  08-512x512-798.tfrec.zip\n",
            "  inflating: 08-512x512-798.tfrec    \n",
            "\n",
            "Archive:  12-224x224-232.tfrec.zip\n",
            "  inflating: 12-224x224-232.tfrec    \n",
            "\n",
            "Archive:  09-224x224-462.tfrec.zip\n",
            "  inflating: 09-224x224-462.tfrec    \n",
            "\n",
            "Archive:  08-224x224-462.tfrec.zip\n",
            "  inflating: 08-224x224-462.tfrec    \n",
            "\n",
            "Archive:  11-224x224-798.tfrec.zip\n",
            "  inflating: 11-224x224-798.tfrec    \n",
            "\n",
            "Archive:  03-512x512-798.tfrec.zip\n",
            "  inflating: 03-512x512-798.tfrec    \n",
            "\n",
            "Archive:  05-512x512-462.tfrec.zip\n",
            "  inflating: 05-512x512-462.tfrec    \n",
            "\n",
            "Archive:  04-192x192-462.tfrec.zip\n",
            "  inflating: 04-192x192-462.tfrec    \n",
            "\n",
            "Archive:  05-512x512-232.tfrec.zip\n",
            "  inflating: 05-512x512-232.tfrec    \n",
            "\n",
            "Archive:  02-512x512-462.tfrec.zip\n",
            "  inflating: 02-512x512-462.tfrec    \n",
            "\n",
            "Archive:  10-224x224-232.tfrec.zip\n",
            "  inflating: 10-224x224-232.tfrec    \n",
            "\n",
            "Archive:  13-512x512-462.tfrec.zip\n",
            "  inflating: 13-512x512-462.tfrec    \n",
            "\n",
            "Archive:  13-512x512-798.tfrec.zip\n",
            "  inflating: 13-512x512-798.tfrec    \n",
            "\n",
            "Archive:  10-224x224-798.tfrec.zip\n",
            "  inflating: 10-224x224-798.tfrec    \n",
            "\n",
            "Archive:  00-224x224-798.tfrec.zip\n",
            "  inflating: 00-224x224-798.tfrec    \n",
            "\n",
            "Archive:  06-192x192-462.tfrec.zip\n",
            "  inflating: 06-192x192-462.tfrec    \n",
            "\n",
            "Archive:  13-224x224-798.tfrec.zip\n",
            "  inflating: 13-224x224-798.tfrec    \n",
            "\n",
            "Archive:  11-224x224-462.tfrec.zip\n",
            "  inflating: 11-224x224-462.tfrec    \n",
            "\n",
            "Archive:  15-224x224-783.tfrec.zip\n",
            "  inflating: 15-224x224-783.tfrec    \n",
            "\n",
            "Archive:  04-224x224-798.tfrec.zip\n",
            "  inflating: 04-224x224-798.tfrec    \n",
            "\n",
            "Archive:  12-512x512-798.tfrec.zip\n",
            "  inflating: 12-512x512-798.tfrec    \n",
            "\n",
            "Archive:  08-512x512-232.tfrec.zip\n",
            "  inflating: 08-512x512-232.tfrec    \n",
            "\n",
            "Archive:  06-224x224-232.tfrec.zip\n",
            "  inflating: 06-224x224-232.tfrec    \n",
            "\n",
            "Archive:  12-512x512-232.tfrec.zip\n",
            "  inflating: 12-512x512-232.tfrec    \n",
            "\n",
            "Archive:  07-512x512-462.tfrec.zip\n",
            "  inflating: 07-512x512-462.tfrec    \n",
            "\n",
            "Archive:  11-512x512-462.tfrec.zip\n",
            "  inflating: 11-512x512-462.tfrec    \n",
            "\n",
            "Archive:  04-224x224-462.tfrec.zip\n",
            "  inflating: 04-224x224-462.tfrec    \n",
            "\n",
            "Archive:  14-512x512-462.tfrec.zip\n",
            "  inflating: 14-512x512-462.tfrec    \n",
            "\n",
            "Archive:  00-224x224-232.tfrec.zip\n",
            "  inflating: 00-224x224-232.tfrec    \n",
            "\n",
            "Archive:  11-512x512-232.tfrec.zip\n",
            "  inflating: 11-512x512-232.tfrec    \n",
            "\n",
            "Archive:  07-224x224-798.tfrec.zip\n",
            "  inflating: 07-224x224-798.tfrec    \n",
            "\n",
            "Archive:  05-224x224-798.tfrec.zip\n",
            "  inflating: 05-224x224-798.tfrec    \n",
            "\n",
            "Archive:  06-512x512-462.tfrec.zip\n",
            "  inflating: 06-512x512-462.tfrec    \n",
            "\n",
            "Archive:  09-512x512-462.tfrec.zip\n",
            "  inflating: 09-512x512-462.tfrec    \n",
            "\n",
            "Archive:  03-224x224-462.tfrec.zip\n",
            "  inflating: 03-224x224-462.tfrec    \n",
            "\n",
            "Archive:  01-224x224-798.tfrec.zip\n",
            "  inflating: 01-224x224-798.tfrec    \n",
            "\n",
            "Archive:  05-224x224-232.tfrec.zip\n",
            "  inflating: 05-224x224-232.tfrec    \n",
            "\n",
            "Archive:  07-224x224-232.tfrec.zip\n",
            "  inflating: 07-224x224-232.tfrec    \n",
            "\n",
            "Archive:  10-224x224-462.tfrec.zip\n",
            "  inflating: 10-224x224-462.tfrec    \n",
            "\n",
            "Archive:  02-224x224-462.tfrec.zip\n",
            "  inflating: 02-224x224-462.tfrec    \n",
            "\n",
            "Archive:  08-224x224-798.tfrec.zip\n",
            "  inflating: 08-224x224-798.tfrec    \n",
            "\n",
            "Archive:  06-224x224-798.tfrec.zip\n",
            "  inflating: 06-224x224-798.tfrec    \n",
            "\n",
            "Archive:  01-224x224-232.tfrec.zip\n",
            "  inflating: 01-224x224-232.tfrec    \n",
            "\n",
            "Archive:  03-224x224-798.tfrec.zip\n",
            "  inflating: 03-224x224-798.tfrec    \n",
            "\n",
            "Archive:  14-512x512-798.tfrec.zip\n",
            "  inflating: 14-512x512-798.tfrec    \n",
            "\n",
            "Archive:  09-512x512-798.tfrec.zip\n",
            "  inflating: 09-512x512-798.tfrec    \n",
            "\n",
            "Archive:  15-224x224-452.tfrec.zip\n",
            "  inflating: 15-224x224-452.tfrec    \n",
            "\n",
            "Archive:  04-512x512-232.tfrec.zip\n",
            "  inflating: 04-512x512-232.tfrec    \n",
            "\n",
            "Archive:  05-224x224-462.tfrec.zip\n",
            "  inflating: 05-224x224-462.tfrec    \n",
            "\n",
            "101 archives were successfully processed.\n"
          ],
          "name": "stdout"
        }
      ]
    },
    {
      "cell_type": "code",
      "metadata": {
        "id": "DBZchNc6G5Ey"
      },
      "source": [
        "IMAGE_SIZE = [192, 192] # TPU 쓰기\r\n",
        "EPOCHS = 5\r\n",
        "BATCH_SIZE = 16 * strategy.num_replicas_in_sync\r\n",
        "\r\n",
        "NUM_TRAINING_IMAGES = 12753\r\n",
        "NUM_TEST_IMAGES = 7382\r\n",
        "STEPS_PER_EPOCH = NUM_TRAINING_IMAGES // BATCH_SIZE"
      ],
      "execution_count": 7,
      "outputs": []
    },
    {
      "cell_type": "code",
      "metadata": {
        "id": "sRzQlsd1IKpi"
      },
      "source": [
        "def decode_image(image_data):\r\n",
        "    image = tf.image.decode_jpeg(image_data, channels=3)\r\n",
        "    image = tf.cast(image, tf.float32) / 255.0  # convert image to floats in [0, 1] range\r\n",
        "    image = tf.reshape(image, [*IMAGE_SIZE, 3]) # explicit size needed for TPU\r\n",
        "    return image\r\n",
        "\r\n",
        "def read_labeled_tfrecord(example):\r\n",
        "    LABELED_TFREC_FORMAT = {\r\n",
        "        \"image\": tf.io.FixedLenFeature([], tf.string), # tf.string means bytestring\r\n",
        "        \"class\": tf.io.FixedLenFeature([], tf.int64),  # shape [] means single element\r\n",
        "    }\r\n",
        "    example = tf.io.parse_single_example(example, LABELED_TFREC_FORMAT)\r\n",
        "    image = decode_image(example['image'])\r\n",
        "    label = tf.cast(example['class'], tf.int32)\r\n",
        "    return image, label # returns a dataset of (image, label) pairs\r\n",
        "\r\n",
        "def read_unlabeled_tfrecord(example):\r\n",
        "    UNLABELED_TFREC_FORMAT = {\r\n",
        "        \"image\": tf.io.FixedLenFeature([], tf.string), # tf.string means bytestring\r\n",
        "        \"id\": tf.io.FixedLenFeature([], tf.string),  # shape [] means single element\r\n",
        "        # class is missing, this competitions's challenge is to predict flower classes for the test dataset\r\n",
        "    }\r\n",
        "    example = tf.io.parse_single_example(example, UNLABELED_TFREC_FORMAT)\r\n",
        "    image = decode_image(example['image'])\r\n",
        "    idnum = example['id']\r\n",
        "    return image, idnum # returns a dataset of image(s)\r\n",
        "\r\n",
        "def load_dataset(filenames, labeled=True, ordered=False):\r\n",
        "    # Read from TFRecords. For optimal performance, reading from multiple files at once and\r\n",
        "    # disregarding data order. Order does not matter since we will be shuffling the data anyway.\r\n",
        "\r\n",
        "    ignore_order = tf.data.Options()\r\n",
        "    if not ordered:\r\n",
        "        ignore_order.experimental_deterministic = False # disable order, increase speed\r\n",
        "\r\n",
        "    dataset = tf.data.TFRecordDataset(filenames) # automatically interleaves reads from multiple files\r\n",
        "    dataset = dataset.with_options(ignore_order) # uses data as soon as it streams in, rather than in its original order\r\n",
        "    dataset = dataset.map(read_labeled_tfrecord if labeled else read_unlabeled_tfrecord)\r\n",
        "    # returns a dataset of (image, label) pairs if labeled=True or (image, id) pairs if labeled=False\r\n",
        "    return dataset\r\n",
        "\r\n"
      ],
      "execution_count": 8,
      "outputs": []
    },
    {
      "cell_type": "markdown",
      "metadata": {
        "id": "wQosp0UTTW0l"
      },
      "source": [
        "\r\n",
        "\r\n",
        "```\r\n",
        "# def get_training_dataset():\r\n",
        "#     dataset = load_dataset(tf.io.gfile.glob(GCS_DS_PATH + '/tfrecords-jpeg-192x192/train/*.tfrec'), labeled=True)\r\n",
        "#     dataset = dataset.repeat() # the training dataset must repeat for several epochs\r\n",
        "#     dataset = dataset.shuffle(2048)\r\n",
        "#     dataset = dataset.batch(BATCH_SIZE)\r\n",
        "#     return dataset\r\n",
        "\r\n",
        "# def get_validation_dataset():\r\n",
        "#     dataset = load_dataset(tf.io.gfile.glob(GCS_DS_PATH + '/tfrecords-jpeg-192x192/val/*.tfrec'), labeled=True, ordered=False)\r\n",
        "#     dataset = dataset.batch(BATCH_SIZE)\r\n",
        "#     dataset = dataset.cache()\r\n",
        "#     return dataset\r\n",
        "\r\n",
        "# def get_test_dataset(ordered=False):\r\n",
        "#     dataset = load_dataset(tf.io.gfile.glob(GCS_DS_PATH + '/tfrecords-jpeg-192x192/test/*.tfrec'), labeled=False, ordered=ordered)\r\n",
        "#     dataset = dataset.batch(BATCH_SIZE)\r\n",
        "#     return dataset\r\n",
        "\r\n",
        "# training_dataset = get_training_dataset()\r\n",
        "# validation_dataset = get_validation_dataset()\r\n",
        "```\r\n",
        "\r\n"
      ]
    },
    {
      "cell_type": "code",
      "metadata": {
        "id": "TKmKJ7dCS1t0"
      },
      "source": [
        "def get_training_dataset():\r\n",
        "    dataset = load_dataset(tf.io.gfile.glob('./tfrecords-jpeg-192x192/train/*.tfrec'), labeled=True)\r\n",
        "    dataset = dataset.repeat() # the training dataset must repeat for several epochs\r\n",
        "    dataset = dataset.shuffle(2048)\r\n",
        "    dataset = dataset.batch(BATCH_SIZE)\r\n",
        "    return dataset\r\n",
        "\r\n",
        "def get_validation_dataset():\r\n",
        "    dataset = load_dataset(tf.io.gfile.glob('./tfrecords-jpeg-192x192/val/*.tfrec'), labeled=True, ordered=False)\r\n",
        "    dataset = dataset.batch(BATCH_SIZE)\r\n",
        "    dataset = dataset.cache()\r\n",
        "    return dataset\r\n",
        "\r\n",
        "def get_test_dataset(ordered=False):\r\n",
        "    dataset = load_dataset(tf.io.gfile.glob('./tfrecords-jpeg-192x192/test/*.tfrec'), labeled=False, ordered=ordered)\r\n",
        "    dataset = dataset.batch(BATCH_SIZE)\r\n",
        "    return dataset\r\n",
        "\r\n",
        "training_dataset = get_training_dataset()\r\n",
        "validation_dataset = get_validation_dataset()\r\n",
        "\r\n",
        "test_dataset = get_test_dataset()"
      ],
      "execution_count": 9,
      "outputs": []
    },
    {
      "cell_type": "code",
      "metadata": {
        "colab": {
          "base_uri": "https://localhost:8080/"
        },
        "id": "cEtZFZFAILUw",
        "outputId": "851a8f46-b14c-46bf-8b27-cf0a2664bad5"
      },
      "source": [
        "with strategy.scope():    \r\n",
        "    pretrained_model = tf.keras.applications.VGG16(weights='imagenet', include_top=False ,input_shape=[*IMAGE_SIZE, 3])\r\n",
        "    pretrained_model.trainable = False # tramsfer learning\r\n",
        "    \r\n",
        "    model = tf.keras.Sequential([\r\n",
        "        pretrained_model,\r\n",
        "        tf.keras.layers.GlobalAveragePooling2D(),\r\n",
        "        tf.keras.layers.Dense(104, activation='softmax')\r\n",
        "    ])\r\n",
        "        \r\n",
        "model.compile(\r\n",
        "    optimizer='adam',\r\n",
        "    loss = 'categorical_crossentropy',\r\n",
        "    metrics=['categorical_accuracy']\r\n",
        ")"
      ],
      "execution_count": 10,
      "outputs": [
        {
          "output_type": "stream",
          "text": [
            "Downloading data from https://storage.googleapis.com/tensorflow/keras-applications/vgg16/vgg16_weights_tf_dim_ordering_tf_kernels_notop.h5\n",
            "58892288/58889256 [==============================] - 1s 0us/step\n"
          ],
          "name": "stdout"
        }
      ]
    },
    {
      "cell_type": "code",
      "metadata": {
        "colab": {
          "base_uri": "https://localhost:8080/"
        },
        "id": "GS6TtBFYX-cT",
        "outputId": "a7e17235-fe8c-4f96-a2a5-ec5dc0d448b2"
      },
      "source": [
        "model.summary()"
      ],
      "execution_count": 11,
      "outputs": [
        {
          "output_type": "stream",
          "text": [
            "Model: \"sequential\"\n",
            "_________________________________________________________________\n",
            "Layer (type)                 Output Shape              Param #   \n",
            "=================================================================\n",
            "vgg16 (Functional)           (None, 6, 6, 512)         14714688  \n",
            "_________________________________________________________________\n",
            "global_average_pooling2d (Gl (None, 512)               0         \n",
            "_________________________________________________________________\n",
            "dense (Dense)                (None, 104)               53352     \n",
            "=================================================================\n",
            "Total params: 14,768,040\n",
            "Trainable params: 53,352\n",
            "Non-trainable params: 14,714,688\n",
            "_________________________________________________________________\n"
          ],
          "name": "stdout"
        }
      ]
    },
    {
      "cell_type": "code",
      "metadata": {
        "colab": {
          "base_uri": "https://localhost:8080/"
        },
        "id": "vFES5gzVTizw",
        "outputId": "5fff489f-4964-4da4-f656-e1a2974bd47f"
      },
      "source": [
        "training_dataset"
      ],
      "execution_count": 18,
      "outputs": [
        {
          "output_type": "execute_result",
          "data": {
            "text/plain": [
              "<BatchDataset shapes: ((None, 192, 192, 3), (None,)), types: (tf.float32, tf.int32)>"
            ]
          },
          "metadata": {
            "tags": []
          },
          "execution_count": 18
        }
      ]
    },
    {
      "cell_type": "code",
      "metadata": {
        "colab": {
          "base_uri": "https://localhost:8080/"
        },
        "id": "QHXuIOKATlGa",
        "outputId": "88b3f04b-2f9f-4979-df51-afb4631ed456"
      },
      "source": [
        "validation_dataset"
      ],
      "execution_count": 19,
      "outputs": [
        {
          "output_type": "execute_result",
          "data": {
            "text/plain": [
              "<CacheDataset shapes: ((None, 192, 192, 3), (None,)), types: (tf.float32, tf.int32)>"
            ]
          },
          "metadata": {
            "tags": []
          },
          "execution_count": 19
        }
      ]
    },
    {
      "cell_type": "code",
      "metadata": {
        "colab": {
          "base_uri": "https://localhost:8080/",
          "height": 1000
        },
        "id": "kHzOchLlIOb4",
        "outputId": "05b4978e-27f9-47bf-e590-1ff3c21c9b3a"
      },
      "source": [
        "historical = model.fit(training_dataset, \r\n",
        "          steps_per_epoch=STEPS_PER_EPOCH, \r\n",
        "          epochs=EPOCHS, \r\n",
        "          validation_data=validation_dataset)"
      ],
      "execution_count": 12,
      "outputs": [
        {
          "output_type": "stream",
          "text": [
            "Epoch 1/5\n"
          ],
          "name": "stdout"
        },
        {
          "output_type": "error",
          "ename": "ValueError",
          "evalue": "ignored",
          "traceback": [
            "\u001b[0;31m---------------------------------------------------------------------------\u001b[0m",
            "\u001b[0;31mValueError\u001b[0m                                Traceback (most recent call last)",
            "\u001b[0;32m<ipython-input-12-e1329c0b4eef>\u001b[0m in \u001b[0;36m<module>\u001b[0;34m()\u001b[0m\n\u001b[1;32m      2\u001b[0m           \u001b[0msteps_per_epoch\u001b[0m\u001b[0;34m=\u001b[0m\u001b[0mSTEPS_PER_EPOCH\u001b[0m\u001b[0;34m,\u001b[0m\u001b[0;34m\u001b[0m\u001b[0;34m\u001b[0m\u001b[0m\n\u001b[1;32m      3\u001b[0m           \u001b[0mepochs\u001b[0m\u001b[0;34m=\u001b[0m\u001b[0mEPOCHS\u001b[0m\u001b[0;34m,\u001b[0m\u001b[0;34m\u001b[0m\u001b[0;34m\u001b[0m\u001b[0m\n\u001b[0;32m----> 4\u001b[0;31m           validation_data=validation_dataset)\n\u001b[0m",
            "\u001b[0;32m/usr/local/lib/python3.6/dist-packages/tensorflow/python/keras/engine/training.py\u001b[0m in \u001b[0;36mfit\u001b[0;34m(self, x, y, batch_size, epochs, verbose, callbacks, validation_split, validation_data, shuffle, class_weight, sample_weight, initial_epoch, steps_per_epoch, validation_steps, validation_batch_size, validation_freq, max_queue_size, workers, use_multiprocessing)\u001b[0m\n\u001b[1;32m   1098\u001b[0m                 _r=1):\n\u001b[1;32m   1099\u001b[0m               \u001b[0mcallbacks\u001b[0m\u001b[0;34m.\u001b[0m\u001b[0mon_train_batch_begin\u001b[0m\u001b[0;34m(\u001b[0m\u001b[0mstep\u001b[0m\u001b[0;34m)\u001b[0m\u001b[0;34m\u001b[0m\u001b[0;34m\u001b[0m\u001b[0m\n\u001b[0;32m-> 1100\u001b[0;31m               \u001b[0mtmp_logs\u001b[0m \u001b[0;34m=\u001b[0m \u001b[0mself\u001b[0m\u001b[0;34m.\u001b[0m\u001b[0mtrain_function\u001b[0m\u001b[0;34m(\u001b[0m\u001b[0miterator\u001b[0m\u001b[0;34m)\u001b[0m\u001b[0;34m\u001b[0m\u001b[0;34m\u001b[0m\u001b[0m\n\u001b[0m\u001b[1;32m   1101\u001b[0m               \u001b[0;32mif\u001b[0m \u001b[0mdata_handler\u001b[0m\u001b[0;34m.\u001b[0m\u001b[0mshould_sync\u001b[0m\u001b[0;34m:\u001b[0m\u001b[0;34m\u001b[0m\u001b[0;34m\u001b[0m\u001b[0m\n\u001b[1;32m   1102\u001b[0m                 \u001b[0mcontext\u001b[0m\u001b[0;34m.\u001b[0m\u001b[0masync_wait\u001b[0m\u001b[0;34m(\u001b[0m\u001b[0;34m)\u001b[0m\u001b[0;34m\u001b[0m\u001b[0;34m\u001b[0m\u001b[0m\n",
            "\u001b[0;32m/usr/local/lib/python3.6/dist-packages/tensorflow/python/eager/def_function.py\u001b[0m in \u001b[0;36m__call__\u001b[0;34m(self, *args, **kwds)\u001b[0m\n\u001b[1;32m    826\u001b[0m     \u001b[0mtracing_count\u001b[0m \u001b[0;34m=\u001b[0m \u001b[0mself\u001b[0m\u001b[0;34m.\u001b[0m\u001b[0mexperimental_get_tracing_count\u001b[0m\u001b[0;34m(\u001b[0m\u001b[0;34m)\u001b[0m\u001b[0;34m\u001b[0m\u001b[0;34m\u001b[0m\u001b[0m\n\u001b[1;32m    827\u001b[0m     \u001b[0;32mwith\u001b[0m \u001b[0mtrace\u001b[0m\u001b[0;34m.\u001b[0m\u001b[0mTrace\u001b[0m\u001b[0;34m(\u001b[0m\u001b[0mself\u001b[0m\u001b[0;34m.\u001b[0m\u001b[0m_name\u001b[0m\u001b[0;34m)\u001b[0m \u001b[0;32mas\u001b[0m \u001b[0mtm\u001b[0m\u001b[0;34m:\u001b[0m\u001b[0;34m\u001b[0m\u001b[0;34m\u001b[0m\u001b[0m\n\u001b[0;32m--> 828\u001b[0;31m       \u001b[0mresult\u001b[0m \u001b[0;34m=\u001b[0m \u001b[0mself\u001b[0m\u001b[0;34m.\u001b[0m\u001b[0m_call\u001b[0m\u001b[0;34m(\u001b[0m\u001b[0;34m*\u001b[0m\u001b[0margs\u001b[0m\u001b[0;34m,\u001b[0m \u001b[0;34m**\u001b[0m\u001b[0mkwds\u001b[0m\u001b[0;34m)\u001b[0m\u001b[0;34m\u001b[0m\u001b[0;34m\u001b[0m\u001b[0m\n\u001b[0m\u001b[1;32m    829\u001b[0m       \u001b[0mcompiler\u001b[0m \u001b[0;34m=\u001b[0m \u001b[0;34m\"xla\"\u001b[0m \u001b[0;32mif\u001b[0m \u001b[0mself\u001b[0m\u001b[0;34m.\u001b[0m\u001b[0m_experimental_compile\u001b[0m \u001b[0;32melse\u001b[0m \u001b[0;34m\"nonXla\"\u001b[0m\u001b[0;34m\u001b[0m\u001b[0;34m\u001b[0m\u001b[0m\n\u001b[1;32m    830\u001b[0m       \u001b[0mnew_tracing_count\u001b[0m \u001b[0;34m=\u001b[0m \u001b[0mself\u001b[0m\u001b[0;34m.\u001b[0m\u001b[0mexperimental_get_tracing_count\u001b[0m\u001b[0;34m(\u001b[0m\u001b[0;34m)\u001b[0m\u001b[0;34m\u001b[0m\u001b[0;34m\u001b[0m\u001b[0m\n",
            "\u001b[0;32m/usr/local/lib/python3.6/dist-packages/tensorflow/python/eager/def_function.py\u001b[0m in \u001b[0;36m_call\u001b[0;34m(self, *args, **kwds)\u001b[0m\n\u001b[1;32m    869\u001b[0m       \u001b[0;31m# This is the first call of __call__, so we have to initialize.\u001b[0m\u001b[0;34m\u001b[0m\u001b[0;34m\u001b[0m\u001b[0;34m\u001b[0m\u001b[0m\n\u001b[1;32m    870\u001b[0m       \u001b[0minitializers\u001b[0m \u001b[0;34m=\u001b[0m \u001b[0;34m[\u001b[0m\u001b[0;34m]\u001b[0m\u001b[0;34m\u001b[0m\u001b[0;34m\u001b[0m\u001b[0m\n\u001b[0;32m--> 871\u001b[0;31m       \u001b[0mself\u001b[0m\u001b[0;34m.\u001b[0m\u001b[0m_initialize\u001b[0m\u001b[0;34m(\u001b[0m\u001b[0margs\u001b[0m\u001b[0;34m,\u001b[0m \u001b[0mkwds\u001b[0m\u001b[0;34m,\u001b[0m \u001b[0madd_initializers_to\u001b[0m\u001b[0;34m=\u001b[0m\u001b[0minitializers\u001b[0m\u001b[0;34m)\u001b[0m\u001b[0;34m\u001b[0m\u001b[0;34m\u001b[0m\u001b[0m\n\u001b[0m\u001b[1;32m    872\u001b[0m     \u001b[0;32mfinally\u001b[0m\u001b[0;34m:\u001b[0m\u001b[0;34m\u001b[0m\u001b[0;34m\u001b[0m\u001b[0m\n\u001b[1;32m    873\u001b[0m       \u001b[0;31m# At this point we know that the initialization is complete (or less\u001b[0m\u001b[0;34m\u001b[0m\u001b[0;34m\u001b[0m\u001b[0;34m\u001b[0m\u001b[0m\n",
            "\u001b[0;32m/usr/local/lib/python3.6/dist-packages/tensorflow/python/eager/def_function.py\u001b[0m in \u001b[0;36m_initialize\u001b[0;34m(self, args, kwds, add_initializers_to)\u001b[0m\n\u001b[1;32m    724\u001b[0m     self._concrete_stateful_fn = (\n\u001b[1;32m    725\u001b[0m         self._stateful_fn._get_concrete_function_internal_garbage_collected(  # pylint: disable=protected-access\n\u001b[0;32m--> 726\u001b[0;31m             *args, **kwds))\n\u001b[0m\u001b[1;32m    727\u001b[0m \u001b[0;34m\u001b[0m\u001b[0m\n\u001b[1;32m    728\u001b[0m     \u001b[0;32mdef\u001b[0m \u001b[0minvalid_creator_scope\u001b[0m\u001b[0;34m(\u001b[0m\u001b[0;34m*\u001b[0m\u001b[0munused_args\u001b[0m\u001b[0;34m,\u001b[0m \u001b[0;34m**\u001b[0m\u001b[0munused_kwds\u001b[0m\u001b[0;34m)\u001b[0m\u001b[0;34m:\u001b[0m\u001b[0;34m\u001b[0m\u001b[0;34m\u001b[0m\u001b[0m\n",
            "\u001b[0;32m/usr/local/lib/python3.6/dist-packages/tensorflow/python/eager/function.py\u001b[0m in \u001b[0;36m_get_concrete_function_internal_garbage_collected\u001b[0;34m(self, *args, **kwargs)\u001b[0m\n\u001b[1;32m   2967\u001b[0m       \u001b[0margs\u001b[0m\u001b[0;34m,\u001b[0m \u001b[0mkwargs\u001b[0m \u001b[0;34m=\u001b[0m \u001b[0;32mNone\u001b[0m\u001b[0;34m,\u001b[0m \u001b[0;32mNone\u001b[0m\u001b[0;34m\u001b[0m\u001b[0;34m\u001b[0m\u001b[0m\n\u001b[1;32m   2968\u001b[0m     \u001b[0;32mwith\u001b[0m \u001b[0mself\u001b[0m\u001b[0;34m.\u001b[0m\u001b[0m_lock\u001b[0m\u001b[0;34m:\u001b[0m\u001b[0;34m\u001b[0m\u001b[0;34m\u001b[0m\u001b[0m\n\u001b[0;32m-> 2969\u001b[0;31m       \u001b[0mgraph_function\u001b[0m\u001b[0;34m,\u001b[0m \u001b[0m_\u001b[0m \u001b[0;34m=\u001b[0m \u001b[0mself\u001b[0m\u001b[0;34m.\u001b[0m\u001b[0m_maybe_define_function\u001b[0m\u001b[0;34m(\u001b[0m\u001b[0margs\u001b[0m\u001b[0;34m,\u001b[0m \u001b[0mkwargs\u001b[0m\u001b[0;34m)\u001b[0m\u001b[0;34m\u001b[0m\u001b[0;34m\u001b[0m\u001b[0m\n\u001b[0m\u001b[1;32m   2970\u001b[0m     \u001b[0;32mreturn\u001b[0m \u001b[0mgraph_function\u001b[0m\u001b[0;34m\u001b[0m\u001b[0;34m\u001b[0m\u001b[0m\n\u001b[1;32m   2971\u001b[0m \u001b[0;34m\u001b[0m\u001b[0m\n",
            "\u001b[0;32m/usr/local/lib/python3.6/dist-packages/tensorflow/python/eager/function.py\u001b[0m in \u001b[0;36m_maybe_define_function\u001b[0;34m(self, args, kwargs)\u001b[0m\n\u001b[1;32m   3359\u001b[0m \u001b[0;34m\u001b[0m\u001b[0m\n\u001b[1;32m   3360\u001b[0m           \u001b[0mself\u001b[0m\u001b[0;34m.\u001b[0m\u001b[0m_function_cache\u001b[0m\u001b[0;34m.\u001b[0m\u001b[0mmissed\u001b[0m\u001b[0;34m.\u001b[0m\u001b[0madd\u001b[0m\u001b[0;34m(\u001b[0m\u001b[0mcall_context_key\u001b[0m\u001b[0;34m)\u001b[0m\u001b[0;34m\u001b[0m\u001b[0;34m\u001b[0m\u001b[0m\n\u001b[0;32m-> 3361\u001b[0;31m           \u001b[0mgraph_function\u001b[0m \u001b[0;34m=\u001b[0m \u001b[0mself\u001b[0m\u001b[0;34m.\u001b[0m\u001b[0m_create_graph_function\u001b[0m\u001b[0;34m(\u001b[0m\u001b[0margs\u001b[0m\u001b[0;34m,\u001b[0m \u001b[0mkwargs\u001b[0m\u001b[0;34m)\u001b[0m\u001b[0;34m\u001b[0m\u001b[0;34m\u001b[0m\u001b[0m\n\u001b[0m\u001b[1;32m   3362\u001b[0m           \u001b[0mself\u001b[0m\u001b[0;34m.\u001b[0m\u001b[0m_function_cache\u001b[0m\u001b[0;34m.\u001b[0m\u001b[0mprimary\u001b[0m\u001b[0;34m[\u001b[0m\u001b[0mcache_key\u001b[0m\u001b[0;34m]\u001b[0m \u001b[0;34m=\u001b[0m \u001b[0mgraph_function\u001b[0m\u001b[0;34m\u001b[0m\u001b[0;34m\u001b[0m\u001b[0m\n\u001b[1;32m   3363\u001b[0m \u001b[0;34m\u001b[0m\u001b[0m\n",
            "\u001b[0;32m/usr/local/lib/python3.6/dist-packages/tensorflow/python/eager/function.py\u001b[0m in \u001b[0;36m_create_graph_function\u001b[0;34m(self, args, kwargs, override_flat_arg_shapes)\u001b[0m\n\u001b[1;32m   3204\u001b[0m             \u001b[0marg_names\u001b[0m\u001b[0;34m=\u001b[0m\u001b[0marg_names\u001b[0m\u001b[0;34m,\u001b[0m\u001b[0;34m\u001b[0m\u001b[0;34m\u001b[0m\u001b[0m\n\u001b[1;32m   3205\u001b[0m             \u001b[0moverride_flat_arg_shapes\u001b[0m\u001b[0;34m=\u001b[0m\u001b[0moverride_flat_arg_shapes\u001b[0m\u001b[0;34m,\u001b[0m\u001b[0;34m\u001b[0m\u001b[0;34m\u001b[0m\u001b[0m\n\u001b[0;32m-> 3206\u001b[0;31m             capture_by_value=self._capture_by_value),\n\u001b[0m\u001b[1;32m   3207\u001b[0m         \u001b[0mself\u001b[0m\u001b[0;34m.\u001b[0m\u001b[0m_function_attributes\u001b[0m\u001b[0;34m,\u001b[0m\u001b[0;34m\u001b[0m\u001b[0;34m\u001b[0m\u001b[0m\n\u001b[1;32m   3208\u001b[0m         \u001b[0mfunction_spec\u001b[0m\u001b[0;34m=\u001b[0m\u001b[0mself\u001b[0m\u001b[0;34m.\u001b[0m\u001b[0mfunction_spec\u001b[0m\u001b[0;34m,\u001b[0m\u001b[0;34m\u001b[0m\u001b[0;34m\u001b[0m\u001b[0m\n",
            "\u001b[0;32m/usr/local/lib/python3.6/dist-packages/tensorflow/python/framework/func_graph.py\u001b[0m in \u001b[0;36mfunc_graph_from_py_func\u001b[0;34m(name, python_func, args, kwargs, signature, func_graph, autograph, autograph_options, add_control_dependencies, arg_names, op_return_value, collections, capture_by_value, override_flat_arg_shapes)\u001b[0m\n\u001b[1;32m    988\u001b[0m         \u001b[0m_\u001b[0m\u001b[0;34m,\u001b[0m \u001b[0moriginal_func\u001b[0m \u001b[0;34m=\u001b[0m \u001b[0mtf_decorator\u001b[0m\u001b[0;34m.\u001b[0m\u001b[0munwrap\u001b[0m\u001b[0;34m(\u001b[0m\u001b[0mpython_func\u001b[0m\u001b[0;34m)\u001b[0m\u001b[0;34m\u001b[0m\u001b[0;34m\u001b[0m\u001b[0m\n\u001b[1;32m    989\u001b[0m \u001b[0;34m\u001b[0m\u001b[0m\n\u001b[0;32m--> 990\u001b[0;31m       \u001b[0mfunc_outputs\u001b[0m \u001b[0;34m=\u001b[0m \u001b[0mpython_func\u001b[0m\u001b[0;34m(\u001b[0m\u001b[0;34m*\u001b[0m\u001b[0mfunc_args\u001b[0m\u001b[0;34m,\u001b[0m \u001b[0;34m**\u001b[0m\u001b[0mfunc_kwargs\u001b[0m\u001b[0;34m)\u001b[0m\u001b[0;34m\u001b[0m\u001b[0;34m\u001b[0m\u001b[0m\n\u001b[0m\u001b[1;32m    991\u001b[0m \u001b[0;34m\u001b[0m\u001b[0m\n\u001b[1;32m    992\u001b[0m       \u001b[0;31m# invariant: `func_outputs` contains only Tensors, CompositeTensors,\u001b[0m\u001b[0;34m\u001b[0m\u001b[0;34m\u001b[0m\u001b[0;34m\u001b[0m\u001b[0m\n",
            "\u001b[0;32m/usr/local/lib/python3.6/dist-packages/tensorflow/python/eager/def_function.py\u001b[0m in \u001b[0;36mwrapped_fn\u001b[0;34m(*args, **kwds)\u001b[0m\n\u001b[1;32m    632\u001b[0m             \u001b[0mxla_context\u001b[0m\u001b[0;34m.\u001b[0m\u001b[0mExit\u001b[0m\u001b[0;34m(\u001b[0m\u001b[0;34m)\u001b[0m\u001b[0;34m\u001b[0m\u001b[0;34m\u001b[0m\u001b[0m\n\u001b[1;32m    633\u001b[0m         \u001b[0;32melse\u001b[0m\u001b[0;34m:\u001b[0m\u001b[0;34m\u001b[0m\u001b[0;34m\u001b[0m\u001b[0m\n\u001b[0;32m--> 634\u001b[0;31m           \u001b[0mout\u001b[0m \u001b[0;34m=\u001b[0m \u001b[0mweak_wrapped_fn\u001b[0m\u001b[0;34m(\u001b[0m\u001b[0;34m)\u001b[0m\u001b[0;34m.\u001b[0m\u001b[0m__wrapped__\u001b[0m\u001b[0;34m(\u001b[0m\u001b[0;34m*\u001b[0m\u001b[0margs\u001b[0m\u001b[0;34m,\u001b[0m \u001b[0;34m**\u001b[0m\u001b[0mkwds\u001b[0m\u001b[0;34m)\u001b[0m\u001b[0;34m\u001b[0m\u001b[0;34m\u001b[0m\u001b[0m\n\u001b[0m\u001b[1;32m    635\u001b[0m         \u001b[0;32mreturn\u001b[0m \u001b[0mout\u001b[0m\u001b[0;34m\u001b[0m\u001b[0;34m\u001b[0m\u001b[0m\n\u001b[1;32m    636\u001b[0m \u001b[0;34m\u001b[0m\u001b[0m\n",
            "\u001b[0;32m/usr/local/lib/python3.6/dist-packages/tensorflow/python/framework/func_graph.py\u001b[0m in \u001b[0;36mwrapper\u001b[0;34m(*args, **kwargs)\u001b[0m\n\u001b[1;32m    975\u001b[0m           \u001b[0;32mexcept\u001b[0m \u001b[0mException\u001b[0m \u001b[0;32mas\u001b[0m \u001b[0me\u001b[0m\u001b[0;34m:\u001b[0m  \u001b[0;31m# pylint:disable=broad-except\u001b[0m\u001b[0;34m\u001b[0m\u001b[0;34m\u001b[0m\u001b[0m\n\u001b[1;32m    976\u001b[0m             \u001b[0;32mif\u001b[0m \u001b[0mhasattr\u001b[0m\u001b[0;34m(\u001b[0m\u001b[0me\u001b[0m\u001b[0;34m,\u001b[0m \u001b[0;34m\"ag_error_metadata\"\u001b[0m\u001b[0;34m)\u001b[0m\u001b[0;34m:\u001b[0m\u001b[0;34m\u001b[0m\u001b[0;34m\u001b[0m\u001b[0m\n\u001b[0;32m--> 977\u001b[0;31m               \u001b[0;32mraise\u001b[0m \u001b[0me\u001b[0m\u001b[0;34m.\u001b[0m\u001b[0mag_error_metadata\u001b[0m\u001b[0;34m.\u001b[0m\u001b[0mto_exception\u001b[0m\u001b[0;34m(\u001b[0m\u001b[0me\u001b[0m\u001b[0;34m)\u001b[0m\u001b[0;34m\u001b[0m\u001b[0;34m\u001b[0m\u001b[0m\n\u001b[0m\u001b[1;32m    978\u001b[0m             \u001b[0;32melse\u001b[0m\u001b[0;34m:\u001b[0m\u001b[0;34m\u001b[0m\u001b[0;34m\u001b[0m\u001b[0m\n\u001b[1;32m    979\u001b[0m               \u001b[0;32mraise\u001b[0m\u001b[0;34m\u001b[0m\u001b[0;34m\u001b[0m\u001b[0m\n",
            "\u001b[0;31mValueError\u001b[0m: in user code:\n\n    /usr/local/lib/python3.6/dist-packages/tensorflow/python/keras/engine/training.py:805 train_function  *\n        return step_function(self, iterator)\n    /usr/local/lib/python3.6/dist-packages/tensorflow/python/keras/engine/training.py:795 step_function  **\n        outputs = model.distribute_strategy.run(run_step, args=(data,))\n    /usr/local/lib/python3.6/dist-packages/tensorflow/python/distribute/tpu_strategy.py:540 run\n        return self.extended.tpu_run(fn, args, kwargs, options)\n    /usr/local/lib/python3.6/dist-packages/tensorflow/python/distribute/tpu_strategy.py:1296 tpu_run\n        return func(args, kwargs)\n    /usr/local/lib/python3.6/dist-packages/tensorflow/python/distribute/tpu_strategy.py:1364 tpu_function\n        xla_options=tpu.XLAOptions(use_spmd_for_xla_partitioning=False))\n    /usr/local/lib/python3.6/dist-packages/tensorflow/python/tpu/tpu.py:968 replicate\n        xla_options=xla_options)[1]\n    /usr/local/lib/python3.6/dist-packages/tensorflow/python/tpu/tpu.py:1439 split_compile_and_replicate\n        outputs = computation(*computation_inputs)\n    /usr/local/lib/python3.6/dist-packages/tensorflow/python/distribute/tpu_strategy.py:1325 replicated_fn\n        result[0] = fn(*replica_args, **replica_kwargs)\n    /usr/local/lib/python3.6/dist-packages/tensorflow/python/keras/engine/training.py:788 run_step  **\n        outputs = model.train_step(data)\n    /usr/local/lib/python3.6/dist-packages/tensorflow/python/keras/engine/training.py:756 train_step\n        y, y_pred, sample_weight, regularization_losses=self.losses)\n    /usr/local/lib/python3.6/dist-packages/tensorflow/python/keras/engine/compile_utils.py:203 __call__\n        loss_value = loss_obj(y_t, y_p, sample_weight=sw)\n    /usr/local/lib/python3.6/dist-packages/tensorflow/python/keras/losses.py:152 __call__\n        losses = call_fn(y_true, y_pred)\n    /usr/local/lib/python3.6/dist-packages/tensorflow/python/keras/losses.py:256 call  **\n        return ag_fn(y_true, y_pred, **self._fn_kwargs)\n    /usr/local/lib/python3.6/dist-packages/tensorflow/python/util/dispatch.py:201 wrapper\n        return target(*args, **kwargs)\n    /usr/local/lib/python3.6/dist-packages/tensorflow/python/keras/losses.py:1537 categorical_crossentropy\n        return K.categorical_crossentropy(y_true, y_pred, from_logits=from_logits)\n    /usr/local/lib/python3.6/dist-packages/tensorflow/python/util/dispatch.py:201 wrapper\n        return target(*args, **kwargs)\n    /usr/local/lib/python3.6/dist-packages/tensorflow/python/keras/backend.py:4833 categorical_crossentropy\n        target.shape.assert_is_compatible_with(output.shape)\n    /usr/local/lib/python3.6/dist-packages/tensorflow/python/framework/tensor_shape.py:1134 assert_is_compatible_with\n        raise ValueError(\"Shapes %s and %s are incompatible\" % (self, other))\n\n    ValueError: Shapes (None, 1) and (None, 104) are incompatible\n"
          ]
        }
      ]
    },
    {
      "cell_type": "markdown",
      "metadata": {
        "id": "TSLlG3MeIXBU"
      },
      "source": [
        "# Test"
      ]
    },
    {
      "cell_type": "code",
      "metadata": {
        "id": "JsxWiGxfIQln"
      },
      "source": [
        "test_ds = get_test_dataset(ordered=True) \r\n",
        "\r\n",
        "print('Computing predictions...')\r\n",
        "test_images_ds = test_ds.map(lambda image, idnum: image)\r\n",
        "probabilities = model.predict(test_images_ds)\r\n",
        "predictions = np.argmax(probabilities, axis=-1)\r\n",
        "print(predictions)\r\n",
        "\r\n",
        "print('Generating submission.csv file...')\r\n",
        "test_ids_ds = test_ds.map(lambda image, idnum: idnum).unbatch()\r\n",
        "test_ids = next(iter(test_ids_ds.batch(NUM_TEST_IMAGES))).numpy().astype('U') # all in one batch\r\n",
        "np.savetxt('submission.csv', np.rec.fromarrays([test_ids, predictions]), \r\n",
        "           fmt=['%s', '%d'], delimiter=',', header='id,label', comments='')"
      ],
      "execution_count": null,
      "outputs": []
    }
  ]
}